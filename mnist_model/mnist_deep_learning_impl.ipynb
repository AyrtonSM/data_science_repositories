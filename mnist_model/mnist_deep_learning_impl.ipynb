{
 "cells": [
  {
   "cell_type": "code",
   "execution_count": 102,
   "id": "1c1c0ace",
   "metadata": {},
   "outputs": [
    {
     "name": "stdout",
     "output_type": "stream",
     "text": [
      "2.5.0\n"
     ]
    }
   ],
   "source": [
    "import matplotlib.pyplot as plt\n",
    "import tensorflow\n",
    "print(tensorflow.__version__)\n",
    "from tensorflow.keras.datasets import mnist\n",
    "from tensorflow.keras.models import Sequential\n",
    "from tensorflow.keras.layers import Dense, Flatten, Conv2D, MaxPooling2D\n",
    "from tensorflow.keras.utils import to_categorical"
   ]
  },
  {
   "cell_type": "code",
   "execution_count": 103,
   "id": "9d680e93",
   "metadata": {},
   "outputs": [],
   "source": [
    "class MNISTModel:\n",
    "    \n",
    "    def __init__(self):\n",
    "        (self.X_train, self.y_train), (self.X_test, self.y_test) = mnist.load_data()\n",
    "        self.__reshape()\n",
    "        self.__normalize()\n",
    "        self.classifier = self.__neural_network()\n",
    "        self.__compile_neural_network()\n",
    "        \n",
    "    def __reshape(self):\n",
    "        print('::: Reshaping data ::: ')\n",
    "        self.X_train = self.X_train.reshape(self.X_train.shape[0],self.X_train.shape[1], self.X_train.shape[2], 1).astype('float32')\n",
    "        self.X_test  = self.X_test.reshape(self.X_test.shape[0],self.X_test.shape[1], self.X_test.shape[2], 1).astype('float32')\n",
    "        \n",
    "    def __normalize(self):\n",
    "        print('::: Normalizing data ::: ')\n",
    "        self.X_train /= 255\n",
    "        self.X_test  /= 255\n",
    "\n",
    "        self.y_train = to_categorical(self.y_train, 10)\n",
    "        self.y_test = to_categorical(self.y_test, 10)\n",
    "        \n",
    "    def __neural_network(self):\n",
    "        print('::: Building neural network ::: ')\n",
    "        classifier = Sequential()\n",
    "        # Creating Convolutional Layer\n",
    "        classifier.add(Conv2D(32, (3,3), input_shape=(28,28,1), activation='relu'))\n",
    "        classifier.add(MaxPooling2D(pool_size=(2,2)))\n",
    "        classifier.add(Flatten())\n",
    "        \n",
    "        # Creating Dense Layer\n",
    "        classifier.add(Dense(units=128, activation='relu'))\n",
    "        classifier.add(Dense(units=10, activation='softmax'))\n",
    "        \n",
    "        return classifier\n",
    "        \n",
    "    def __compile_neural_network(self):\n",
    "        \n",
    "        print('::: Compiling neural network ::: ')\n",
    "        self.classifier.compile(loss='categorical_crossentropy', optimizer='adam', metrics=['accuracy'])\n",
    "    \n",
    "    def run(self):\n",
    "        self.__history = self.classifier.fit(self.X_train, self.y_train, validation_data = (self.X_test , self.y_test), batch_size=128, epochs=5)\n",
    "        print('::: Fitting has finished ::: ')\n",
    "        \n",
    "    def evaluate(self):\n",
    "        result = self.classifier.evaluate(self.X_test , self.y_test)\n",
    "        print(\"::: Evaluation report ::: \" , result)\n",
    "        print(\"Accuracy -> %.2f\" % result[1])\n",
    "        print(\"Loss -> %.2f\" % result[0])\n",
    "        \n",
    "        \n",
    "        \n",
    "        \n",
    "        \n",
    "        "
   ]
  },
  {
   "cell_type": "code",
   "execution_count": 104,
   "id": "c6c4f807",
   "metadata": {},
   "outputs": [
    {
     "name": "stdout",
     "output_type": "stream",
     "text": [
      "::: Reshaping data ::: \n",
      "::: Normalizing data ::: \n",
      "::: Building neural network ::: \n",
      "::: Compiling neural network ::: \n",
      "Epoch 1/5\n",
      "469/469 [==============================] - 26s 55ms/step - loss: 0.2233 - accuracy: 0.9361 - val_loss: 0.0835 - val_accuracy: 0.9759\n",
      "Epoch 2/5\n",
      "469/469 [==============================] - 24s 51ms/step - loss: 0.0701 - accuracy: 0.9793 - val_loss: 0.0664 - val_accuracy: 0.9782\n",
      "Epoch 3/5\n",
      "469/469 [==============================] - 24s 51ms/step - loss: 0.0481 - accuracy: 0.9855 - val_loss: 0.0537 - val_accuracy: 0.9836\n",
      "Epoch 4/5\n",
      "469/469 [==============================] - 24s 51ms/step - loss: 0.0358 - accuracy: 0.9894 - val_loss: 0.0424 - val_accuracy: 0.9866\n",
      "Epoch 5/5\n",
      "469/469 [==============================] - 23s 49ms/step - loss: 0.0262 - accuracy: 0.9924 - val_loss: 0.0510 - val_accuracy: 0.9843\n",
      "::: Fitting has finished ::: \n",
      "313/313 [==============================] - 3s 9ms/step - loss: 0.0510 - accuracy: 0.9843\n",
      "::: Evaluation report :::  [0.05098704621195793, 0.9843000173568726]\n",
      "Accuracy -> 0.98\n",
      "Loss -> 0.05\n"
     ]
    }
   ],
   "source": [
    "mnist = MNISTModel()\n",
    "mnist.run()\n",
    "mnist.evaluate()"
   ]
  },
  {
   "cell_type": "code",
   "execution_count": null,
   "id": "b2a4badc",
   "metadata": {},
   "outputs": [],
   "source": []
  }
 ],
 "metadata": {
  "kernelspec": {
   "display_name": "Python 3 (ipykernel)",
   "language": "python",
   "name": "python3"
  },
  "language_info": {
   "codemirror_mode": {
    "name": "ipython",
    "version": 3
   },
   "file_extension": ".py",
   "mimetype": "text/x-python",
   "name": "python",
   "nbconvert_exporter": "python",
   "pygments_lexer": "ipython3",
   "version": "3.7.12"
  }
 },
 "nbformat": 4,
 "nbformat_minor": 5
}
